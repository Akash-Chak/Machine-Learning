{
 "cells": [
  {
   "cell_type": "markdown",
   "id": "35385148",
   "metadata": {},
   "source": [
    "# Introduction: Student Marks Prediction \n",
    "\n",
    "In this notebook we will implement Regression models to predict students marks using the below mentioned data. We will go through different regression models to find out best fit,after doing preprocessing/cleaning and then selecting the features.Comparing different regression models we will find out the best one."
   ]
  },
  {
   "cell_type": "markdown",
   "id": "c6fd05fe",
   "metadata": {},
   "source": [
    "## Dataset\n",
    "\n",
    "We are using data on student grades collected from a Portuguese secondary (high) school. This data is from the UCI machine learning repository, a great collection of datasets for model testing. The data includes academic and personal characteristics of the students as well as final grades. The objective is to predict the final grade from the student information which makes this a supervised, regression task. We have a set of training data with known labels, and we want the model to learn a mapping from the features (explanatory variables) to the target (the label) in this case the final grade. It is a regression task because the final grade is a continuous value."
   ]
  },
  {
   "cell_type": "markdown",
   "id": "ee128564",
   "metadata": {},
   "source": [
    "## Exploratory Data Analysis"
   ]
  },
  {
   "cell_type": "code",
   "execution_count": 130,
   "id": "0a89fd59",
   "metadata": {},
   "outputs": [],
   "source": [
    "# Pandas and numpy for data manipulation\n",
    "import pandas as pd\n",
    "import numpy as np\n",
    " \n",
    "# Matplotlib and seaborn for plotting\n",
    "import matplotlib.pyplot as plt\n",
    "%matplotlib inline\n",
    "\n",
    "import matplotlib\n",
    "matplotlib.rcParams['font.size'] = 16\n",
    "matplotlib.rcParams['figure.figsize'] = (9, 9)\n",
    "\n",
    "import seaborn as sns\n",
    "\n",
    "# Scipy helper functions\n",
    "from scipy.stats import percentileofscore"
   ]
  },
  {
   "cell_type": "code",
   "execution_count": 131,
   "id": "a06cd11b",
   "metadata": {},
   "outputs": [],
   "source": [
    "# Standard ML Models for comparison\n",
    "from sklearn.linear_model import LinearRegression\n",
    "from sklearn.linear_model import ElasticNet\n",
    "from sklearn.ensemble import RandomForestRegressor\n",
    "from sklearn.ensemble import ExtraTreesRegressor\n",
    "from sklearn.ensemble import GradientBoostingRegressor\n",
    "from sklearn.svm import SVR\n",
    "\n",
    "# Splitting data into training/testing\n",
    "from sklearn.model_selection import train_test_split\n",
    "\n",
    "# Metrics\n",
    "from sklearn.metrics import mean_squared_error, mean_absolute_error, median_absolute_error"
   ]
  },
  {
   "cell_type": "markdown",
   "id": "7c4d83fc",
   "metadata": {},
   "source": [
    "## Read Data and examine"
   ]
  },
  {
   "cell_type": "code",
   "execution_count": 132,
   "id": "68e946e5",
   "metadata": {},
   "outputs": [
    {
     "data": {
      "text/html": [
       "<div>\n",
       "<style scoped>\n",
       "    .dataframe tbody tr th:only-of-type {\n",
       "        vertical-align: middle;\n",
       "    }\n",
       "\n",
       "    .dataframe tbody tr th {\n",
       "        vertical-align: top;\n",
       "    }\n",
       "\n",
       "    .dataframe thead th {\n",
       "        text-align: right;\n",
       "    }\n",
       "</style>\n",
       "<table border=\"1\" class=\"dataframe\">\n",
       "  <thead>\n",
       "    <tr style=\"text-align: right;\">\n",
       "      <th></th>\n",
       "      <th>school</th>\n",
       "      <th>sex</th>\n",
       "      <th>age</th>\n",
       "      <th>address</th>\n",
       "      <th>famsize</th>\n",
       "      <th>Pstatus</th>\n",
       "      <th>Medu</th>\n",
       "      <th>Fedu</th>\n",
       "      <th>Mjob</th>\n",
       "      <th>Fjob</th>\n",
       "      <th>...</th>\n",
       "      <th>famrel</th>\n",
       "      <th>freetime</th>\n",
       "      <th>goout</th>\n",
       "      <th>Dalc</th>\n",
       "      <th>Walc</th>\n",
       "      <th>health</th>\n",
       "      <th>absences</th>\n",
       "      <th>G1</th>\n",
       "      <th>G2</th>\n",
       "      <th>Grade</th>\n",
       "    </tr>\n",
       "  </thead>\n",
       "  <tbody>\n",
       "    <tr>\n",
       "      <th>0</th>\n",
       "      <td>GP</td>\n",
       "      <td>F</td>\n",
       "      <td>18</td>\n",
       "      <td>U</td>\n",
       "      <td>GT3</td>\n",
       "      <td>A</td>\n",
       "      <td>4</td>\n",
       "      <td>4</td>\n",
       "      <td>at_home</td>\n",
       "      <td>teacher</td>\n",
       "      <td>...</td>\n",
       "      <td>4</td>\n",
       "      <td>3</td>\n",
       "      <td>4</td>\n",
       "      <td>1</td>\n",
       "      <td>1</td>\n",
       "      <td>3</td>\n",
       "      <td>6</td>\n",
       "      <td>5</td>\n",
       "      <td>6</td>\n",
       "      <td>6</td>\n",
       "    </tr>\n",
       "    <tr>\n",
       "      <th>1</th>\n",
       "      <td>GP</td>\n",
       "      <td>F</td>\n",
       "      <td>17</td>\n",
       "      <td>U</td>\n",
       "      <td>GT3</td>\n",
       "      <td>T</td>\n",
       "      <td>1</td>\n",
       "      <td>1</td>\n",
       "      <td>at_home</td>\n",
       "      <td>other</td>\n",
       "      <td>...</td>\n",
       "      <td>5</td>\n",
       "      <td>3</td>\n",
       "      <td>3</td>\n",
       "      <td>1</td>\n",
       "      <td>1</td>\n",
       "      <td>3</td>\n",
       "      <td>4</td>\n",
       "      <td>5</td>\n",
       "      <td>5</td>\n",
       "      <td>6</td>\n",
       "    </tr>\n",
       "    <tr>\n",
       "      <th>2</th>\n",
       "      <td>GP</td>\n",
       "      <td>F</td>\n",
       "      <td>15</td>\n",
       "      <td>U</td>\n",
       "      <td>LE3</td>\n",
       "      <td>T</td>\n",
       "      <td>1</td>\n",
       "      <td>1</td>\n",
       "      <td>at_home</td>\n",
       "      <td>other</td>\n",
       "      <td>...</td>\n",
       "      <td>4</td>\n",
       "      <td>3</td>\n",
       "      <td>2</td>\n",
       "      <td>2</td>\n",
       "      <td>3</td>\n",
       "      <td>3</td>\n",
       "      <td>10</td>\n",
       "      <td>7</td>\n",
       "      <td>8</td>\n",
       "      <td>10</td>\n",
       "    </tr>\n",
       "    <tr>\n",
       "      <th>3</th>\n",
       "      <td>GP</td>\n",
       "      <td>F</td>\n",
       "      <td>15</td>\n",
       "      <td>U</td>\n",
       "      <td>GT3</td>\n",
       "      <td>T</td>\n",
       "      <td>4</td>\n",
       "      <td>2</td>\n",
       "      <td>health</td>\n",
       "      <td>services</td>\n",
       "      <td>...</td>\n",
       "      <td>3</td>\n",
       "      <td>2</td>\n",
       "      <td>2</td>\n",
       "      <td>1</td>\n",
       "      <td>1</td>\n",
       "      <td>5</td>\n",
       "      <td>2</td>\n",
       "      <td>15</td>\n",
       "      <td>14</td>\n",
       "      <td>15</td>\n",
       "    </tr>\n",
       "    <tr>\n",
       "      <th>4</th>\n",
       "      <td>GP</td>\n",
       "      <td>F</td>\n",
       "      <td>16</td>\n",
       "      <td>U</td>\n",
       "      <td>GT3</td>\n",
       "      <td>T</td>\n",
       "      <td>3</td>\n",
       "      <td>3</td>\n",
       "      <td>other</td>\n",
       "      <td>other</td>\n",
       "      <td>...</td>\n",
       "      <td>4</td>\n",
       "      <td>3</td>\n",
       "      <td>2</td>\n",
       "      <td>1</td>\n",
       "      <td>2</td>\n",
       "      <td>5</td>\n",
       "      <td>4</td>\n",
       "      <td>6</td>\n",
       "      <td>10</td>\n",
       "      <td>10</td>\n",
       "    </tr>\n",
       "  </tbody>\n",
       "</table>\n",
       "<p>5 rows × 33 columns</p>\n",
       "</div>"
      ],
      "text/plain": [
       "  school sex  age address famsize Pstatus  Medu  Fedu     Mjob      Fjob  ...  \\\n",
       "0     GP   F   18       U     GT3       A     4     4  at_home   teacher  ...   \n",
       "1     GP   F   17       U     GT3       T     1     1  at_home     other  ...   \n",
       "2     GP   F   15       U     LE3       T     1     1  at_home     other  ...   \n",
       "3     GP   F   15       U     GT3       T     4     2   health  services  ...   \n",
       "4     GP   F   16       U     GT3       T     3     3    other     other  ...   \n",
       "\n",
       "  famrel freetime  goout  Dalc  Walc health absences  G1  G2 Grade  \n",
       "0      4        3      4     1     1      3        6   5   6     6  \n",
       "1      5        3      3     1     1      3        4   5   5     6  \n",
       "2      4        3      2     2     3      3       10   7   8    10  \n",
       "3      3        2      2     1     1      5        2  15  14    15  \n",
       "4      4        3      2     1     2      5        4   6  10    10  \n",
       "\n",
       "[5 rows x 33 columns]"
      ]
     },
     "execution_count": 132,
     "metadata": {},
     "output_type": "execute_result"
    }
   ],
   "source": [
    "# Read in class scores\n",
    "df = pd.read_csv('student-mat.csv',sep=';')#here it will be separated by colons\n",
    "\n",
    "# Filter out grades that were 0\n",
    "df = df[~df['G3'].isin([0, 1])]\n",
    "\n",
    "df = df.rename(columns={'G3': 'Grade'})\n",
    "\n",
    "df.head()"
   ]
  },
  {
   "cell_type": "code",
   "execution_count": 133,
   "id": "233433e7",
   "metadata": {},
   "outputs": [
    {
     "data": {
      "text/plain": [
       "(357, 33)"
      ]
     },
     "execution_count": 133,
     "metadata": {},
     "output_type": "execute_result"
    }
   ],
   "source": [
    "df.shape"
   ]
  },
  {
   "cell_type": "code",
   "execution_count": 134,
   "id": "161767b2",
   "metadata": {},
   "outputs": [
    {
     "data": {
      "text/html": [
       "<div>\n",
       "<style scoped>\n",
       "    .dataframe tbody tr th:only-of-type {\n",
       "        vertical-align: middle;\n",
       "    }\n",
       "\n",
       "    .dataframe tbody tr th {\n",
       "        vertical-align: top;\n",
       "    }\n",
       "\n",
       "    .dataframe thead th {\n",
       "        text-align: right;\n",
       "    }\n",
       "</style>\n",
       "<table border=\"1\" class=\"dataframe\">\n",
       "  <thead>\n",
       "    <tr style=\"text-align: right;\">\n",
       "      <th></th>\n",
       "      <th>age</th>\n",
       "      <th>Medu</th>\n",
       "      <th>Fedu</th>\n",
       "      <th>traveltime</th>\n",
       "      <th>studytime</th>\n",
       "      <th>failures</th>\n",
       "      <th>famrel</th>\n",
       "      <th>freetime</th>\n",
       "      <th>goout</th>\n",
       "      <th>Dalc</th>\n",
       "      <th>Walc</th>\n",
       "      <th>health</th>\n",
       "      <th>absences</th>\n",
       "      <th>G1</th>\n",
       "      <th>G2</th>\n",
       "      <th>Grade</th>\n",
       "    </tr>\n",
       "  </thead>\n",
       "  <tbody>\n",
       "    <tr>\n",
       "      <th>count</th>\n",
       "      <td>357.000000</td>\n",
       "      <td>357.000000</td>\n",
       "      <td>357.000000</td>\n",
       "      <td>357.000000</td>\n",
       "      <td>357.000000</td>\n",
       "      <td>357.000000</td>\n",
       "      <td>357.000000</td>\n",
       "      <td>357.000000</td>\n",
       "      <td>357.000000</td>\n",
       "      <td>357.000000</td>\n",
       "      <td>357.000000</td>\n",
       "      <td>357.000000</td>\n",
       "      <td>357.000000</td>\n",
       "      <td>357.000000</td>\n",
       "      <td>357.000000</td>\n",
       "      <td>357.000000</td>\n",
       "    </tr>\n",
       "    <tr>\n",
       "      <th>mean</th>\n",
       "      <td>16.655462</td>\n",
       "      <td>2.795518</td>\n",
       "      <td>2.546218</td>\n",
       "      <td>1.431373</td>\n",
       "      <td>2.042017</td>\n",
       "      <td>0.271709</td>\n",
       "      <td>3.955182</td>\n",
       "      <td>3.246499</td>\n",
       "      <td>3.098039</td>\n",
       "      <td>1.495798</td>\n",
       "      <td>2.330532</td>\n",
       "      <td>3.549020</td>\n",
       "      <td>6.316527</td>\n",
       "      <td>11.268908</td>\n",
       "      <td>11.358543</td>\n",
       "      <td>11.523810</td>\n",
       "    </tr>\n",
       "    <tr>\n",
       "      <th>std</th>\n",
       "      <td>1.268262</td>\n",
       "      <td>1.093999</td>\n",
       "      <td>1.084217</td>\n",
       "      <td>0.686075</td>\n",
       "      <td>0.831895</td>\n",
       "      <td>0.671750</td>\n",
       "      <td>0.885721</td>\n",
       "      <td>1.011601</td>\n",
       "      <td>1.090779</td>\n",
       "      <td>0.919886</td>\n",
       "      <td>1.294974</td>\n",
       "      <td>1.402638</td>\n",
       "      <td>8.187623</td>\n",
       "      <td>3.240450</td>\n",
       "      <td>3.147188</td>\n",
       "      <td>3.227797</td>\n",
       "    </tr>\n",
       "    <tr>\n",
       "      <th>min</th>\n",
       "      <td>15.000000</td>\n",
       "      <td>0.000000</td>\n",
       "      <td>0.000000</td>\n",
       "      <td>1.000000</td>\n",
       "      <td>1.000000</td>\n",
       "      <td>0.000000</td>\n",
       "      <td>1.000000</td>\n",
       "      <td>1.000000</td>\n",
       "      <td>1.000000</td>\n",
       "      <td>1.000000</td>\n",
       "      <td>1.000000</td>\n",
       "      <td>1.000000</td>\n",
       "      <td>0.000000</td>\n",
       "      <td>3.000000</td>\n",
       "      <td>5.000000</td>\n",
       "      <td>4.000000</td>\n",
       "    </tr>\n",
       "    <tr>\n",
       "      <th>25%</th>\n",
       "      <td>16.000000</td>\n",
       "      <td>2.000000</td>\n",
       "      <td>2.000000</td>\n",
       "      <td>1.000000</td>\n",
       "      <td>1.000000</td>\n",
       "      <td>0.000000</td>\n",
       "      <td>4.000000</td>\n",
       "      <td>3.000000</td>\n",
       "      <td>2.000000</td>\n",
       "      <td>1.000000</td>\n",
       "      <td>1.000000</td>\n",
       "      <td>3.000000</td>\n",
       "      <td>2.000000</td>\n",
       "      <td>9.000000</td>\n",
       "      <td>9.000000</td>\n",
       "      <td>9.000000</td>\n",
       "    </tr>\n",
       "    <tr>\n",
       "      <th>50%</th>\n",
       "      <td>17.000000</td>\n",
       "      <td>3.000000</td>\n",
       "      <td>3.000000</td>\n",
       "      <td>1.000000</td>\n",
       "      <td>2.000000</td>\n",
       "      <td>0.000000</td>\n",
       "      <td>4.000000</td>\n",
       "      <td>3.000000</td>\n",
       "      <td>3.000000</td>\n",
       "      <td>1.000000</td>\n",
       "      <td>2.000000</td>\n",
       "      <td>4.000000</td>\n",
       "      <td>4.000000</td>\n",
       "      <td>11.000000</td>\n",
       "      <td>11.000000</td>\n",
       "      <td>11.000000</td>\n",
       "    </tr>\n",
       "    <tr>\n",
       "      <th>75%</th>\n",
       "      <td>18.000000</td>\n",
       "      <td>4.000000</td>\n",
       "      <td>3.000000</td>\n",
       "      <td>2.000000</td>\n",
       "      <td>2.000000</td>\n",
       "      <td>0.000000</td>\n",
       "      <td>5.000000</td>\n",
       "      <td>4.000000</td>\n",
       "      <td>4.000000</td>\n",
       "      <td>2.000000</td>\n",
       "      <td>3.000000</td>\n",
       "      <td>5.000000</td>\n",
       "      <td>8.000000</td>\n",
       "      <td>14.000000</td>\n",
       "      <td>14.000000</td>\n",
       "      <td>14.000000</td>\n",
       "    </tr>\n",
       "    <tr>\n",
       "      <th>max</th>\n",
       "      <td>22.000000</td>\n",
       "      <td>4.000000</td>\n",
       "      <td>4.000000</td>\n",
       "      <td>4.000000</td>\n",
       "      <td>4.000000</td>\n",
       "      <td>3.000000</td>\n",
       "      <td>5.000000</td>\n",
       "      <td>5.000000</td>\n",
       "      <td>5.000000</td>\n",
       "      <td>5.000000</td>\n",
       "      <td>5.000000</td>\n",
       "      <td>5.000000</td>\n",
       "      <td>75.000000</td>\n",
       "      <td>19.000000</td>\n",
       "      <td>19.000000</td>\n",
       "      <td>20.000000</td>\n",
       "    </tr>\n",
       "  </tbody>\n",
       "</table>\n",
       "</div>"
      ],
      "text/plain": [
       "              age        Medu        Fedu  traveltime   studytime    failures  \\\n",
       "count  357.000000  357.000000  357.000000  357.000000  357.000000  357.000000   \n",
       "mean    16.655462    2.795518    2.546218    1.431373    2.042017    0.271709   \n",
       "std      1.268262    1.093999    1.084217    0.686075    0.831895    0.671750   \n",
       "min     15.000000    0.000000    0.000000    1.000000    1.000000    0.000000   \n",
       "25%     16.000000    2.000000    2.000000    1.000000    1.000000    0.000000   \n",
       "50%     17.000000    3.000000    3.000000    1.000000    2.000000    0.000000   \n",
       "75%     18.000000    4.000000    3.000000    2.000000    2.000000    0.000000   \n",
       "max     22.000000    4.000000    4.000000    4.000000    4.000000    3.000000   \n",
       "\n",
       "           famrel    freetime       goout        Dalc        Walc      health  \\\n",
       "count  357.000000  357.000000  357.000000  357.000000  357.000000  357.000000   \n",
       "mean     3.955182    3.246499    3.098039    1.495798    2.330532    3.549020   \n",
       "std      0.885721    1.011601    1.090779    0.919886    1.294974    1.402638   \n",
       "min      1.000000    1.000000    1.000000    1.000000    1.000000    1.000000   \n",
       "25%      4.000000    3.000000    2.000000    1.000000    1.000000    3.000000   \n",
       "50%      4.000000    3.000000    3.000000    1.000000    2.000000    4.000000   \n",
       "75%      5.000000    4.000000    4.000000    2.000000    3.000000    5.000000   \n",
       "max      5.000000    5.000000    5.000000    5.000000    5.000000    5.000000   \n",
       "\n",
       "         absences          G1          G2       Grade  \n",
       "count  357.000000  357.000000  357.000000  357.000000  \n",
       "mean     6.316527   11.268908   11.358543   11.523810  \n",
       "std      8.187623    3.240450    3.147188    3.227797  \n",
       "min      0.000000    3.000000    5.000000    4.000000  \n",
       "25%      2.000000    9.000000    9.000000    9.000000  \n",
       "50%      4.000000   11.000000   11.000000   11.000000  \n",
       "75%      8.000000   14.000000   14.000000   14.000000  \n",
       "max     75.000000   19.000000   19.000000   20.000000  "
      ]
     },
     "execution_count": 134,
     "metadata": {},
     "output_type": "execute_result"
    }
   ],
   "source": [
    "df.describe()"
   ]
  },
  {
   "cell_type": "code",
   "execution_count": 135,
   "id": "52a76f15",
   "metadata": {},
   "outputs": [
    {
     "name": "stdout",
     "output_type": "stream",
     "text": [
      "\n",
      "Column Name: school\n",
      "GP    315\n",
      "MS     42\n",
      "Name: school, dtype: int64\n",
      "\n",
      "Column Name: sex\n",
      "F    185\n",
      "M    172\n",
      "Name: sex, dtype: int64\n",
      "\n",
      "Column Name: address\n",
      "U    279\n",
      "R     78\n",
      "Name: address, dtype: int64\n",
      "\n",
      "Column Name: famsize\n",
      "GT3    250\n",
      "LE3    107\n",
      "Name: famsize, dtype: int64\n",
      "\n",
      "Column Name: Pstatus\n",
      "T    318\n",
      "A     39\n",
      "Name: Pstatus, dtype: int64\n",
      "\n",
      "Column Name: Mjob\n",
      "other       127\n",
      "services     94\n",
      "teacher      54\n",
      "at_home      50\n",
      "health       32\n",
      "Name: Mjob, dtype: int64\n",
      "\n",
      "Column Name: Fjob\n",
      "other       196\n",
      "services    100\n",
      "teacher      26\n",
      "health       18\n",
      "at_home      17\n",
      "Name: Fjob, dtype: int64\n",
      "\n",
      "Column Name: reason\n",
      "course        126\n",
      "reputation     99\n",
      "home           97\n",
      "other          35\n",
      "Name: reason, dtype: int64\n",
      "\n",
      "Column Name: guardian\n",
      "mother    248\n",
      "father     82\n",
      "other      27\n",
      "Name: guardian, dtype: int64\n",
      "\n",
      "Column Name: schoolsup\n",
      "no     307\n",
      "yes     50\n",
      "Name: schoolsup, dtype: int64\n",
      "\n",
      "Column Name: famsup\n",
      "yes    219\n",
      "no     138\n",
      "Name: famsup, dtype: int64\n",
      "\n",
      "Column Name: paid\n",
      "no     184\n",
      "yes    173\n",
      "Name: paid, dtype: int64\n",
      "\n",
      "Column Name: activities\n",
      "yes    180\n",
      "no     177\n",
      "Name: activities, dtype: int64\n",
      "\n",
      "Column Name: nursery\n",
      "yes    286\n",
      "no      71\n",
      "Name: nursery, dtype: int64\n",
      "\n",
      "Column Name: higher\n",
      "yes    343\n",
      "no      14\n",
      "Name: higher, dtype: int64\n",
      "\n",
      "Column Name: internet\n",
      "yes    299\n",
      "no      58\n",
      "Name: internet, dtype: int64\n",
      "\n",
      "Column Name: romantic\n",
      "no     245\n",
      "yes    112\n",
      "Name: romantic, dtype: int64\n"
     ]
    }
   ],
   "source": [
    "# Print the value counts for categorical columns\n",
    "for col in df.columns:\n",
    "    if df[col].dtype == 'object':\n",
    "        print('\\nColumn Name:', col,)\n",
    "        print(df[col].value_counts())"
   ]
  },
  {
   "cell_type": "code",
   "execution_count": 136,
   "id": "739638ef",
   "metadata": {},
   "outputs": [
    {
     "data": {
      "text/plain": [
       "count    357.000000\n",
       "mean      11.523810\n",
       "std        3.227797\n",
       "min        4.000000\n",
       "25%        9.000000\n",
       "50%       11.000000\n",
       "75%       14.000000\n",
       "max       20.000000\n",
       "Name: Grade, dtype: float64"
      ]
     },
     "execution_count": 136,
     "metadata": {},
     "output_type": "execute_result"
    }
   ],
   "source": [
    "df.Grade.describe()"
   ]
  },
  {
   "cell_type": "code",
   "execution_count": 137,
   "id": "da582f4c",
   "metadata": {},
   "outputs": [
    {
     "data": {
      "text/plain": [
       "10    56\n",
       "11    47\n",
       "15    33\n",
       "8     32\n",
       "13    31\n",
       "12    31\n",
       "9     28\n",
       "14    27\n",
       "16    16\n",
       "6     15\n",
       "18    12\n",
       "7      9\n",
       "5      7\n",
       "17     6\n",
       "19     5\n",
       "20     1\n",
       "4      1\n",
       "Name: Grade, dtype: int64"
      ]
     },
     "execution_count": 137,
     "metadata": {},
     "output_type": "execute_result"
    }
   ],
   "source": [
    "df.Grade.value_counts()"
   ]
  },
  {
   "cell_type": "code",
   "execution_count": 138,
   "id": "f2c53b17",
   "metadata": {},
   "outputs": [
    {
     "data": {
      "image/png": "[encoded data removed]",
      "text/plain": [
       "<Figure size 648x648 with 1 Axes>"
      ]
     },
     "metadata": {
      "needs_background": "light"
     },
     "output_type": "display_data"
    }
   ],
   "source": [
    "# Bar plot of grades\n",
    "plt.bar(df['Grade'].value_counts().index, \n",
    "        df['Grade'].value_counts().values,\n",
    "         fill = 'navy', edgecolor = 'k', width = 1)\n",
    "plt.xlabel('Grade'); plt.ylabel('Count'); plt.title('Distribution of Final Grades');\n",
    "plt.xticks(list(range(4, 21)));"
   ]
  },
  {
   "cell_type": "code",
   "execution_count": 139,
   "id": "65f7f4fa",
   "metadata": {},
   "outputs": [
    {
     "data": {
      "text/plain": [
       "<matplotlib.legend.Legend at 0x7f02ab34b700>"
      ]
     },
     "execution_count": 139,
     "metadata": {},
     "output_type": "execute_result"
    },
    {
     "data": {
      "image/png": "[encoded data removed]",
      "text/plain": [
       "<Figure size 648x648 with 1 Axes>"
      ]
     },
     "metadata": {
      "needs_background": "light"
     },
     "output_type": "display_data"
    }
   ],
   "source": [
    "sns.kdeplot(df.loc[df['address'] == 'U', 'Grade'],label = 'Urban', shade = True)\n",
    "sns.kdeplot(df.loc[df['address'] == 'R', 'Grade'], label = 'Rural', shade = True)\n",
    "plt.xlabel('Grade'); plt.ylabel('Density'); plt.title('Density Plot of Final Grades by Location');plt.legend()"
   ]
  },
  {
   "cell_type": "code",
   "execution_count": 140,
   "id": "d14049af",
   "metadata": {},
   "outputs": [
    {
     "data": {
      "text/plain": [
       "<matplotlib.legend.Legend at 0x7f02ab1c84f0>"
      ]
     },
     "execution_count": 140,
     "metadata": {},
     "output_type": "execute_result"
    },
    {
     "data": {
      "image/png": "[encoded data removed]",
      "text/plain": [
       "<Figure size 648x648 with 1 Axes>"
      ]
     },
     "metadata": {
      "needs_background": "light"
     },
     "output_type": "display_data"
    }
   ],
   "source": [
    "# Grade distribution by Guardian\n",
    "sns.kdeplot(df.loc[df['guardian'] == 'father', 'Grade'], label = 'Father', shade = True)\n",
    "sns.kdeplot(df.loc[df['guardian'] == 'mother', 'Grade'], label = 'Mother', shade = True)\n",
    "sns.kdeplot(df.loc[df['guardian'] == 'other', 'Grade'], label = 'Other', shade = True)\n",
    "plt.xlabel('Grade'); plt.ylabel('Density'); plt.title('Density Plot of Final Grades by Guardian');plt.legend()"
   ]
  },
  {
   "cell_type": "code",
   "execution_count": 141,
   "id": "5b661317",
   "metadata": {},
   "outputs": [
    {
     "data": {
      "text/plain": [
       "<matplotlib.legend.Legend at 0x7f02a9dba8e0>"
      ]
     },
     "execution_count": 141,
     "metadata": {},
     "output_type": "execute_result"
    },
    {
     "data": {
      "image/png": "[encoded data removed]",
      "text/plain": [
       "<Figure size 648x648 with 1 Axes>"
      ]
     },
     "metadata": {
      "needs_background": "light"
     },
     "output_type": "display_data"
    }
   ],
   "source": [
    "# Grade distribution by internet\n",
    "sns.kdeplot(df.loc[df['internet'] == 'yes', 'Grade'], label = 'Internet', shade = True)\n",
    "sns.kdeplot(df.loc[df['internet'] == 'no', 'Grade'], label = 'No Internet', shade = True)\n",
    "plt.xlabel('Grade'); plt.ylabel('Density'); plt.title('Density Plot of Final Grades by Internet Access');plt.legend()"
   ]
  },
  {
   "cell_type": "code",
   "execution_count": 142,
   "id": "5fb31bd2",
   "metadata": {},
   "outputs": [
    {
     "data": {
      "text/plain": [
       "school  address\n",
       "GP      U          259\n",
       "        R           56\n",
       "MS      R           22\n",
       "        U           20\n",
       "Name: address, dtype: int64"
      ]
     },
     "execution_count": 142,
     "metadata": {},
     "output_type": "execute_result"
    }
   ],
   "source": [
    "# Look at distribution of schools by address\n",
    "schools = df.groupby(['school'])['address'].value_counts()\n",
    "schools"
   ]
  },
  {
   "cell_type": "markdown",
   "id": "c2fb5afa",
   "metadata": {},
   "source": [
    "## Grade Percentile"
   ]
  },
  {
   "cell_type": "code",
   "execution_count": 143,
   "id": "04e25604",
   "metadata": {},
   "outputs": [],
   "source": [
    "# Calculate percentile for grades\n",
    "df['percentile'] = df['Grade'].apply(lambda x: percentileofscore(df['Grade'], x))"
   ]
  },
  {
   "cell_type": "code",
   "execution_count": 144,
   "id": "bf7e7227",
   "metadata": {},
   "outputs": [
    {
     "data": {
      "image/png": "[encoded data removed]",
      "text/plain": [
       "<Figure size 720x720 with 1 Axes>"
      ]
     },
     "metadata": {
      "needs_background": "light"
     },
     "output_type": "display_data"
    }
   ],
   "source": [
    "# Plot percentiles for grades\n",
    "plt.figure(figsize = (10, 10))\n",
    "plt.plot(df['Grade'], df['percentile'], 'o')\n",
    "plt.xticks(range(2, 24, 2));plt.yticks(range(0,105,5))\n",
    "plt.xlabel('Score'); plt.ylabel('Percentile'); plt.title('Grade Percentiles');"
   ]
  },
  {
   "cell_type": "code",
   "execution_count": 145,
   "id": "18e525ff",
   "metadata": {
    "scrolled": true
   },
   "outputs": [
    {
     "name": "stdout",
     "output_type": "stream",
     "text": [
      "50th percentile score: 12\n",
      "Minimum Score needed for 90th percentile: 16\n"
     ]
    }
   ],
   "source": [
    "print('50th percentile score:', np.min(df.loc[df['percentile'] > 50, 'Grade']))\n",
    "print('Minimum Score needed for 90th percentile:', np.min(df.loc[df['percentile'] > 90, 'Grade']))"
   ]
  },
  {
   "cell_type": "markdown",
   "id": "5ced2a72",
   "metadata": {},
   "source": [
    "## Variable Corelation with Final Grade"
   ]
  },
  {
   "cell_type": "markdown",
   "id": "21a87114",
   "metadata": {},
   "source": [
    "### Numerical Corelation"
   ]
  },
  {
   "cell_type": "code",
   "execution_count": 146,
   "id": "a19f07e9",
   "metadata": {},
   "outputs": [
    {
     "data": {
      "text/plain": [
       "failures     -0.293831\n",
       "absences     -0.213129\n",
       "Walc         -0.190054\n",
       "goout        -0.177383\n",
       "Dalc         -0.140690\n",
       "age          -0.140372\n",
       "traveltime   -0.099785\n",
       "health       -0.081691\n",
       "freetime     -0.021589\n",
       "famrel        0.037711\n",
       "studytime     0.126728\n",
       "Fedu          0.158811\n",
       "Medu          0.190308\n",
       "G1            0.891805\n",
       "G2            0.965583\n",
       "percentile    0.983823\n",
       "Grade         1.000000\n",
       "Name: Grade, dtype: float64"
      ]
     },
     "execution_count": 146,
     "metadata": {},
     "output_type": "execute_result"
    }
   ],
   "source": [
    "# Correlations of numerical values\n",
    "df.corr()['Grade'].sort_values()"
   ]
  },
  {
   "cell_type": "markdown",
   "id": "7593474b",
   "metadata": {},
   "source": [
    "### Categorical corelation with one-hot encoding"
   ]
  },
  {
   "cell_type": "code",
   "execution_count": 147,
   "id": "918d0fbd",
   "metadata": {},
   "outputs": [
    {
     "data": {
      "text/html": [
       "<div>\n",
       "<style scoped>\n",
       "    .dataframe tbody tr th:only-of-type {\n",
       "        vertical-align: middle;\n",
       "    }\n",
       "\n",
       "    .dataframe tbody tr th {\n",
       "        vertical-align: top;\n",
       "    }\n",
       "\n",
       "    .dataframe thead th {\n",
       "        text-align: right;\n",
       "    }\n",
       "</style>\n",
       "<table border=\"1\" class=\"dataframe\">\n",
       "  <thead>\n",
       "    <tr style=\"text-align: right;\">\n",
       "      <th></th>\n",
       "      <th>school_GP</th>\n",
       "      <th>school_MS</th>\n",
       "      <th>sex_F</th>\n",
       "      <th>sex_M</th>\n",
       "      <th>address_R</th>\n",
       "      <th>address_U</th>\n",
       "      <th>famsize_GT3</th>\n",
       "      <th>famsize_LE3</th>\n",
       "      <th>Pstatus_A</th>\n",
       "      <th>Pstatus_T</th>\n",
       "      <th>...</th>\n",
       "      <th>activities_yes</th>\n",
       "      <th>nursery_no</th>\n",
       "      <th>nursery_yes</th>\n",
       "      <th>higher_no</th>\n",
       "      <th>higher_yes</th>\n",
       "      <th>internet_no</th>\n",
       "      <th>internet_yes</th>\n",
       "      <th>romantic_no</th>\n",
       "      <th>romantic_yes</th>\n",
       "      <th>Grade</th>\n",
       "    </tr>\n",
       "  </thead>\n",
       "  <tbody>\n",
       "    <tr>\n",
       "      <th>0</th>\n",
       "      <td>1</td>\n",
       "      <td>0</td>\n",
       "      <td>1</td>\n",
       "      <td>0</td>\n",
       "      <td>0</td>\n",
       "      <td>1</td>\n",
       "      <td>1</td>\n",
       "      <td>0</td>\n",
       "      <td>1</td>\n",
       "      <td>0</td>\n",
       "      <td>...</td>\n",
       "      <td>0</td>\n",
       "      <td>0</td>\n",
       "      <td>1</td>\n",
       "      <td>0</td>\n",
       "      <td>1</td>\n",
       "      <td>1</td>\n",
       "      <td>0</td>\n",
       "      <td>1</td>\n",
       "      <td>0</td>\n",
       "      <td>6</td>\n",
       "    </tr>\n",
       "    <tr>\n",
       "      <th>1</th>\n",
       "      <td>1</td>\n",
       "      <td>0</td>\n",
       "      <td>1</td>\n",
       "      <td>0</td>\n",
       "      <td>0</td>\n",
       "      <td>1</td>\n",
       "      <td>1</td>\n",
       "      <td>0</td>\n",
       "      <td>0</td>\n",
       "      <td>1</td>\n",
       "      <td>...</td>\n",
       "      <td>0</td>\n",
       "      <td>1</td>\n",
       "      <td>0</td>\n",
       "      <td>0</td>\n",
       "      <td>1</td>\n",
       "      <td>0</td>\n",
       "      <td>1</td>\n",
       "      <td>1</td>\n",
       "      <td>0</td>\n",
       "      <td>6</td>\n",
       "    </tr>\n",
       "    <tr>\n",
       "      <th>2</th>\n",
       "      <td>1</td>\n",
       "      <td>0</td>\n",
       "      <td>1</td>\n",
       "      <td>0</td>\n",
       "      <td>0</td>\n",
       "      <td>1</td>\n",
       "      <td>0</td>\n",
       "      <td>1</td>\n",
       "      <td>0</td>\n",
       "      <td>1</td>\n",
       "      <td>...</td>\n",
       "      <td>0</td>\n",
       "      <td>0</td>\n",
       "      <td>1</td>\n",
       "      <td>0</td>\n",
       "      <td>1</td>\n",
       "      <td>0</td>\n",
       "      <td>1</td>\n",
       "      <td>1</td>\n",
       "      <td>0</td>\n",
       "      <td>10</td>\n",
       "    </tr>\n",
       "    <tr>\n",
       "      <th>3</th>\n",
       "      <td>1</td>\n",
       "      <td>0</td>\n",
       "      <td>1</td>\n",
       "      <td>0</td>\n",
       "      <td>0</td>\n",
       "      <td>1</td>\n",
       "      <td>1</td>\n",
       "      <td>0</td>\n",
       "      <td>0</td>\n",
       "      <td>1</td>\n",
       "      <td>...</td>\n",
       "      <td>1</td>\n",
       "      <td>0</td>\n",
       "      <td>1</td>\n",
       "      <td>0</td>\n",
       "      <td>1</td>\n",
       "      <td>0</td>\n",
       "      <td>1</td>\n",
       "      <td>0</td>\n",
       "      <td>1</td>\n",
       "      <td>15</td>\n",
       "    </tr>\n",
       "    <tr>\n",
       "      <th>4</th>\n",
       "      <td>1</td>\n",
       "      <td>0</td>\n",
       "      <td>1</td>\n",
       "      <td>0</td>\n",
       "      <td>0</td>\n",
       "      <td>1</td>\n",
       "      <td>1</td>\n",
       "      <td>0</td>\n",
       "      <td>0</td>\n",
       "      <td>1</td>\n",
       "      <td>...</td>\n",
       "      <td>0</td>\n",
       "      <td>0</td>\n",
       "      <td>1</td>\n",
       "      <td>0</td>\n",
       "      <td>1</td>\n",
       "      <td>1</td>\n",
       "      <td>0</td>\n",
       "      <td>1</td>\n",
       "      <td>0</td>\n",
       "      <td>10</td>\n",
       "    </tr>\n",
       "  </tbody>\n",
       "</table>\n",
       "<p>5 rows × 44 columns</p>\n",
       "</div>"
      ],
      "text/plain": [
       "   school_GP  school_MS  sex_F  sex_M  address_R  address_U  famsize_GT3  \\\n",
       "0          1          0      1      0          0          1            1   \n",
       "1          1          0      1      0          0          1            1   \n",
       "2          1          0      1      0          0          1            0   \n",
       "3          1          0      1      0          0          1            1   \n",
       "4          1          0      1      0          0          1            1   \n",
       "\n",
       "   famsize_LE3  Pstatus_A  Pstatus_T  ...  activities_yes  nursery_no  \\\n",
       "0            0          1          0  ...               0           0   \n",
       "1            0          0          1  ...               0           1   \n",
       "2            1          0          1  ...               0           0   \n",
       "3            0          0          1  ...               1           0   \n",
       "4            0          0          1  ...               0           0   \n",
       "\n",
       "   nursery_yes  higher_no  higher_yes  internet_no  internet_yes  romantic_no  \\\n",
       "0            1          0           1            1             0            1   \n",
       "1            0          0           1            0             1            1   \n",
       "2            1          0           1            0             1            1   \n",
       "3            1          0           1            0             1            0   \n",
       "4            1          0           1            1             0            1   \n",
       "\n",
       "   romantic_yes  Grade  \n",
       "0             0      6  \n",
       "1             0      6  \n",
       "2             0     10  \n",
       "3             1     15  \n",
       "4             0     10  \n",
       "\n",
       "[5 rows x 44 columns]"
      ]
     },
     "execution_count": 147,
     "metadata": {},
     "output_type": "execute_result"
    }
   ],
   "source": [
    "# Select only categorical variables\n",
    "category_df = df.select_dtypes('object')\n",
    "# One hot encode the variables\n",
    "dummy_df = pd.get_dummies(category_df)\n",
    "# Put the grade back in the dataframe\n",
    "dummy_df['Grade'] = df['Grade']\n",
    "dummy_df.head()"
   ]
  },
  {
   "cell_type": "code",
   "execution_count": 148,
   "id": "3fe30961",
   "metadata": {},
   "outputs": [
    {
     "data": {
      "text/plain": [
       "schoolsup_yes       -0.238365\n",
       "Mjob_other          -0.142541\n",
       "address_R           -0.130090\n",
       "higher_no           -0.113419\n",
       "internet_no         -0.111624\n",
       "sex_F               -0.102448\n",
       "Mjob_at_home        -0.090624\n",
       "school_MS           -0.083615\n",
       "Fjob_other          -0.081502\n",
       "guardian_other      -0.069491\n",
       "famsup_yes          -0.067305\n",
       "activities_no       -0.058600\n",
       "reason_course       -0.050918\n",
       "romantic_yes        -0.049944\n",
       "famsize_GT3         -0.039744\n",
       "paid_yes            -0.028899\n",
       "Pstatus_T           -0.026665\n",
       "nursery_no          -0.026541\n",
       "Fjob_services       -0.018154\n",
       "reason_other        -0.003897\n",
       "reason_home          0.000372\n",
       "Fjob_health          0.006241\n",
       "guardian_mother      0.007728\n",
       "nursery_yes          0.026541\n",
       "Pstatus_A            0.026665\n",
       "paid_no              0.028899\n",
       "Fjob_at_home         0.028954\n",
       "guardian_father      0.035220\n",
       "famsize_LE3          0.039744\n",
       "Mjob_teacher         0.045390\n",
       "romantic_no          0.049944\n",
       "reason_reputation    0.056573\n",
       "activities_yes       0.058600\n",
       "famsup_no            0.067305\n",
       "school_GP            0.083615\n",
       "Mjob_services        0.102134\n",
       "sex_M                0.102448\n",
       "internet_yes         0.111624\n",
       "higher_yes           0.113419\n",
       "address_U            0.130090\n",
       "Mjob_health          0.134581\n",
       "Fjob_teacher         0.158455\n",
       "schoolsup_no         0.238365\n",
       "Grade                1.000000\n",
       "Name: Grade, dtype: float64"
      ]
     },
     "execution_count": 148,
     "metadata": {},
     "output_type": "execute_result"
    }
   ],
   "source": [
    "# Correlations in one-hot encoded dataframe\n",
    "dummy_df.corr()['Grade'].sort_values()"
   ]
  },
  {
   "cell_type": "markdown",
   "id": "e736f43a",
   "metadata": {},
   "source": [
    "### Selecting the most correlated columns"
   ]
  },
  {
   "cell_type": "code",
   "execution_count": 149,
   "id": "d261b581",
   "metadata": {},
   "outputs": [
    {
     "name": "stderr",
     "output_type": "stream",
     "text": [
      "/home/akash/miniconda3/envs/work/lib/python3.9/site-packages/pandas/core/frame.py:4906: SettingWithCopyWarning: \n",
      "A value is trying to be set on a copy of a slice from a DataFrame\n",
      "\n",
      "See the caveats in the documentation: https://pandas.pydata.org/pandas-docs/stable/user_guide/indexing.html#returning-a-view-versus-a-copy\n",
      "  return super().drop(\n"
     ]
    },
    {
     "data": {
      "text/plain": [
       "Grade                1.000000\n",
       "failures             0.293831\n",
       "schoolsup_yes        0.238365\n",
       "schoolsup_no         0.238365\n",
       "absences             0.213129\n",
       "Medu                 0.190308\n",
       "Walc                 0.190054\n",
       "goout                0.177383\n",
       "Fedu                 0.158811\n",
       "Fjob_teacher         0.158455\n",
       "Mjob_other           0.142541\n",
       "Dalc                 0.140690\n",
       "age                  0.140372\n",
       "Mjob_health          0.134581\n",
       "address_R            0.130090\n",
       "address_U            0.130090\n",
       "studytime            0.126728\n",
       "higher_yes           0.113419\n",
       "higher_no            0.113419\n",
       "internet_no          0.111624\n",
       "internet_yes         0.111624\n",
       "sex_M                0.102448\n",
       "sex_F                0.102448\n",
       "Mjob_services        0.102134\n",
       "traveltime           0.099785\n",
       "Mjob_at_home         0.090624\n",
       "school_MS            0.083615\n",
       "school_GP            0.083615\n",
       "health               0.081691\n",
       "Fjob_other           0.081502\n",
       "guardian_other       0.069491\n",
       "famsup_yes           0.067305\n",
       "famsup_no            0.067305\n",
       "activities_no        0.058600\n",
       "activities_yes       0.058600\n",
       "reason_reputation    0.056573\n",
       "reason_course        0.050918\n",
       "romantic_no          0.049944\n",
       "romantic_yes         0.049944\n",
       "Mjob_teacher         0.045390\n",
       "famsize_GT3          0.039744\n",
       "famsize_LE3          0.039744\n",
       "famrel               0.037711\n",
       "guardian_father      0.035220\n",
       "Fjob_at_home         0.028954\n",
       "paid_yes             0.028899\n",
       "paid_no              0.028899\n",
       "Pstatus_T            0.026665\n",
       "Pstatus_A            0.026665\n",
       "nursery_yes          0.026541\n",
       "nursery_no           0.026541\n",
       "freetime             0.021589\n",
       "Fjob_services        0.018154\n",
       "guardian_mother      0.007728\n",
       "Fjob_health          0.006241\n",
       "reason_other         0.003897\n",
       "reason_home          0.000372\n",
       "Name: Grade, dtype: float64"
      ]
     },
     "execution_count": 149,
     "metadata": {},
     "output_type": "execute_result"
    }
   ],
   "source": [
    "# First we create a temporary df and exclude the object columns\n",
    "# Then we drop the G1,G2,percentile\n",
    "# Then we concat the dummy_df and df_temp\n",
    "# Finally we find out correlation with the grade column\n",
    "df_temp=df.select_dtypes(exclude=object)\n",
    "df_temp.drop(columns=['G1','G2','percentile','Grade'],inplace=True)\n",
    "Features_mat=pd.concat([df_temp,dummy_df],axis=1)\n",
    "Most_correlated=Features_mat.corr()['Grade'].abs().sort_values(ascending=False)\n",
    "Most_correlated"
   ]
  },
  {
   "cell_type": "code",
   "execution_count": 150,
   "id": "e89ceb0e",
   "metadata": {
    "scrolled": true
   },
   "outputs": [],
   "source": [
    "# Now finally we will check the correlation between feature matrix with the target variable\n",
    "# Now we can see that top 23 features has correlation greater than 1\n",
    "# We select those columns only as our feature\n",
    "Most_correlated_new=Most_correlated[1:24]\n",
    "# Now we get the indexes of the Most_correlated_new and take those from our data frame\n",
    "X=Features_mat.loc[:,Most_correlated_new.index]\n",
    "y=Features_mat['Grade']\n",
    "\n",
    "# Splitting the model into train and test\n",
    "X_train,X_test,y_train,y_test=train_test_split(X,y,test_size=0.25)"
   ]
  },
  {
   "cell_type": "markdown",
   "id": "a71b7a75",
   "metadata": {},
   "source": [
    "# Building and comparing models"
   ]
  },
  {
   "cell_type": "code",
   "execution_count": 151,
   "id": "ccb1cde1",
   "metadata": {},
   "outputs": [
    {
     "name": "stdout",
     "output_type": "stream",
     "text": [
      "Root Mean Square Error:2.891\n",
      "Root mean absolute error:1.560\n",
      "Root Median Absolute Error:1.507\n"
     ]
    }
   ],
   "source": [
    "lr=LinearRegression()\n",
    "lr.fit(X_train,y_train)\n",
    "y_pred=lr.predict(X_test)\n",
    "mae=np.sqrt(mean_absolute_error(y_test,y_pred))\n",
    "mse=np.sqrt(mean_squared_error(y_test,y_pred))\n",
    "med=np.sqrt(median_absolute_error(y_test,y_pred))\n",
    "print('Root Mean Square Error:%.3f\\nRoot mean absolute error:%.3f\\nRoot Median Absolute Error:%.3f'%(mse,mae,med))"
   ]
  },
  {
   "cell_type": "code",
   "execution_count": 152,
   "id": "67a85e28",
   "metadata": {},
   "outputs": [
    {
     "name": "stdout",
     "output_type": "stream",
     "text": [
      "Root Mean Square Error:3.037\n",
      "Root mean absolute error:1.584\n",
      "Root Median Absolute Error:1.508\n"
     ]
    }
   ],
   "source": [
    "svr=SVR()\n",
    "svr.fit(X_train,y_train)\n",
    "y_pred1=svr.predict(X_test)\n",
    "mae1=np.sqrt(mean_absolute_error(y_test,y_pred1))\n",
    "mse1=np.sqrt(mean_squared_error(y_test,y_pred1))\n",
    "med1=np.sqrt(median_absolute_error(y_test,y_pred1))\n",
    "print('Root Mean Square Error:%.3f\\nRoot mean absolute error:%.3f\\nRoot Median Absolute Error:%.3f'%(mse1,mae1,med1))"
   ]
  },
  {
   "cell_type": "code",
   "execution_count": 153,
   "id": "47f8e9eb",
   "metadata": {},
   "outputs": [
    {
     "name": "stdout",
     "output_type": "stream",
     "text": [
      "Root Mean Square Error:3.074\n",
      "Root mean absolute error:1.601\n",
      "Root Median Absolute Error:1.525\n"
     ]
    }
   ],
   "source": [
    "rf=RandomForestRegressor()\n",
    "rf.fit(X_train,y_train)\n",
    "y_pred2=rf.predict(X_test)\n",
    "mae2=np.sqrt(mean_absolute_error(y_test,y_pred2))\n",
    "mse2=np.sqrt(mean_squared_error(y_test,y_pred2))\n",
    "med2=np.sqrt(median_absolute_error(y_test,y_pred2))\n",
    "print('Root Mean Square Error:%.3f\\nRoot mean absolute error:%.3f\\nRoot Median Absolute Error:%.3f'%(mse2,mae2,med2))"
   ]
  },
  {
   "cell_type": "code",
   "execution_count": 154,
   "id": "23d42cda",
   "metadata": {},
   "outputs": [
    {
     "name": "stdout",
     "output_type": "stream",
     "text": [
      "Root Mean Square Error:3.099\n",
      "Root mean absolute error:1.598\n",
      "Root Median Absolute Error:1.563\n"
     ]
    }
   ],
   "source": [
    "gbr=GradientBoostingRegressor()\n",
    "gbr.fit(X_train,y_train)\n",
    "y_pred3=gbr.predict(X_test)\n",
    "mae3=np.sqrt(mean_absolute_error(y_test,y_pred3))\n",
    "mse3=np.sqrt(mean_squared_error(y_test,y_pred3))\n",
    "med3=np.sqrt(median_absolute_error(y_test,y_pred3))\n",
    "print('Root Mean Square Error:%.3f\\nRoot mean absolute error:%.3f\\nRoot Median Absolute Error:%.3f'%(mse3,mae3,med3))"
   ]
  },
  {
   "cell_type": "markdown",
   "id": "e653eafb",
   "metadata": {},
   "source": [
    "# Some points"
   ]
  },
  {
   "cell_type": "code",
   "execution_count": 155,
   "id": "db0f0e66",
   "metadata": {},
   "outputs": [
    {
     "data": {
      "text/plain": [
       "Index(['failures', 'schoolsup_yes', 'schoolsup_no', 'absences', 'Medu', 'Walc',\n",
       "       'goout', 'Fedu', 'Fjob_teacher', 'Mjob_other', 'Dalc', 'age',\n",
       "       'Mjob_health', 'address_R', 'address_U', 'studytime', 'higher_yes',\n",
       "       'higher_no', 'internet_no', 'internet_yes', 'sex_M', 'sex_F',\n",
       "       'Mjob_services'],\n",
       "      dtype='object')"
      ]
     },
     "execution_count": 155,
     "metadata": {},
     "output_type": "execute_result"
    }
   ],
   "source": [
    "X_train.columns"
   ]
  },
  {
   "cell_type": "code",
   "execution_count": 157,
   "id": "b8f63d6d",
   "metadata": {},
   "outputs": [
    {
     "data": {
      "text/plain": [
       "array([-0.96994891, -1.05612474,  1.05612474, -0.04390475,  0.32538195,\n",
       "       -0.20953447, -0.27895658,  0.00738182,  1.58409611, -0.28648497,\n",
       "       -0.0850584 , -0.08749489,  0.61575898, -0.32867287,  0.32867287,\n",
       "        0.60422559, -0.19411857,  0.19411857, -0.02982908,  0.02982908,\n",
       "        0.38196691, -0.38196691,  0.82980463])"
      ]
     },
     "execution_count": 157,
     "metadata": {},
     "output_type": "execute_result"
    }
   ],
   "source": [
    "lr.coef_"
   ]
  },
  {
   "cell_type": "markdown",
   "id": "606df03a",
   "metadata": {},
   "source": [
    "Here we see the following points-\n",
    "- failures has the most(negative) effect on the student grades\n",
    "- schoolsup_yes--> which is extra support after school has negative effect on the grades. It is kind of confusing, which actually should increase the marks are fuelling in lowering them\n",
    "- schoolsup_no--> just the opposite effect, means students who don't have support other than school are performing better\n",
    "- Fjob_teacher--> Father's profession-->It seems if your father is a teacher then your grades goes up, which is usually the thing.\n",
    "- Mjob_health--> If your mother's profession is related to health service then you also buckle up the grades it seems.\n",
    "- studytime--> The number of hours you study in a week, which is reasonable to be one of the reason for student's grade.\n",
    "- Mjob_services--> If your mother's profession is related to civil services (example-Police,Administrative) then it seems the grades goes higher.\n",
    "- other columns don't play that much significant role"
   ]
  },
  {
   "cell_type": "markdown",
   "id": "34d2e2f4",
   "metadata": {},
   "source": [
    "# Conclusion"
   ]
  },
  {
   "cell_type": "markdown",
   "id": "6ac1464b",
   "metadata": {},
   "source": [
    "* Judging from the metrics, the Linear Regression model runs the best, followed by SVR,RandoForestRegressor,GradientBoostingRegressor.\n",
    "* Due to lack of data it seems the model is behaving bad, and some sign of overfitting is also there."
   ]
  }
 ],
 "metadata": {
  "kernelspec": {
   "display_name": "Python 3 (ipykernel)",
   "language": "python",
   "name": "python3"
  },
  "language_info": {
   "codemirror_mode": {
    "name": "ipython",
    "version": 3
   },
   "file_extension": ".py",
   "mimetype": "text/x-python",
   "name": "python",
   "nbconvert_exporter": "python",
   "pygments_lexer": "ipython3",
   "version": "3.9.7"
  }
 },
 "nbformat": 4,
 "nbformat_minor": 5
}
